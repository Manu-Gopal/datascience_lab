{
 "cells": [
  {
   "cell_type": "code",
   "execution_count": null,
   "id": "dddf1ba7-225e-4ddc-8b13-dc096ff5b5fc",
   "metadata": {},
   "outputs": [],
   "source": [
    "#Ques 1\n",
    "\n",
    "\n"
   ]
  },
  {
   "cell_type": "code",
   "execution_count": 2,
   "id": "9961c5d9-fa71-4f3c-9809-00470f5e8fdc",
   "metadata": {},
   "outputs": [],
   "source": [
    "import numpy as np\n",
    "m = np.array([1,2,3])\n",
    "n = np.array([4,5,6])\n",
    "\n"
   ]
  },
  {
   "cell_type": "code",
   "execution_count": 29,
   "id": "12d1938a-98e8-4322-bdd1-dec8b021090a",
   "metadata": {},
   "outputs": [
    {
     "name": "stdout",
     "output_type": "stream",
     "text": [
      "[False False False]\n"
     ]
    }
   ],
   "source": [
    "print(np.greater(m, n))"
   ]
  },
  {
   "cell_type": "code",
   "execution_count": 30,
   "id": "3b4abfab-1905-471d-9068-e8fe8d277716",
   "metadata": {},
   "outputs": [
    {
     "name": "stdout",
     "output_type": "stream",
     "text": [
      "[False False False]\n"
     ]
    }
   ],
   "source": [
    "print(np.greater_equal(m,n))"
   ]
  },
  {
   "cell_type": "code",
   "execution_count": 31,
   "id": "d328ad84-5506-40bd-a8b8-130451930995",
   "metadata": {},
   "outputs": [
    {
     "name": "stdout",
     "output_type": "stream",
     "text": [
      "[ True  True  True]\n"
     ]
    }
   ],
   "source": [
    "print(np.less(m,n))"
   ]
  },
  {
   "cell_type": "code",
   "execution_count": 32,
   "id": "235e01ee-aba4-48f9-983b-2d2f078683b4",
   "metadata": {},
   "outputs": [
    {
     "name": "stdout",
     "output_type": "stream",
     "text": [
      "[ True  True  True]\n"
     ]
    }
   ],
   "source": [
    "print(np.less_equal(m,n))"
   ]
  },
  {
   "cell_type": "code",
   "execution_count": 38,
   "id": "c704775f-35b6-4118-8c2a-e8e850de51ec",
   "metadata": {},
   "outputs": [],
   "source": [
    "#Ques 2\n",
    "\n",
    "\n"
   ]
  },
  {
   "cell_type": "code",
   "execution_count": 39,
   "id": "4eed1837-65c7-4200-8d18-3549e2b504d5",
   "metadata": {},
   "outputs": [
    {
     "name": "stdout",
     "output_type": "stream",
     "text": [
      "[30 32 34 36 38 40 42 44 46 48 50 52 54 56 58 60 62 64 66 68 70]\n"
     ]
    }
   ],
   "source": [
    "print(np.arange(30,71,2))"
   ]
  },
  {
   "cell_type": "code",
   "execution_count": 40,
   "id": "48551213-7ea3-423e-864a-bc11244bf697",
   "metadata": {},
   "outputs": [],
   "source": [
    "#Ques3\n",
    "\n",
    "\n"
   ]
  },
  {
   "cell_type": "code",
   "execution_count": 43,
   "id": "e0cc5e83-8dd1-4423-a12f-32c033313628",
   "metadata": {},
   "outputs": [
    {
     "name": "stdout",
     "output_type": "stream",
     "text": [
      "[[1. 0. 0.]\n",
      " [0. 1. 0.]\n",
      " [0. 0. 1.]]\n"
     ]
    }
   ],
   "source": [
    "print(np.identity(3))"
   ]
  },
  {
   "cell_type": "code",
   "execution_count": 45,
   "id": "4bbecc4e-92c2-46cf-85a8-5a775cef10ae",
   "metadata": {},
   "outputs": [],
   "source": [
    "#Ques4\n",
    "\n",
    "\n"
   ]
  },
  {
   "cell_type": "code",
   "execution_count": 59,
   "id": "326aa0a9-17fc-4ba5-aeb3-84b6d26fe599",
   "metadata": {},
   "outputs": [
    {
     "name": "stdout",
     "output_type": "stream",
     "text": [
      "Original Vector\n",
      "[ 0  1  2  3  4  5  6  7  8  9 10 11 12 13 14 15 16 17 18 19 20]\n",
      "Vector after Changing\n",
      "[  0   1   2   3   4   5   6   7   8  -9 -10 -11 -12 -13 -14 -15  16  17\n",
      "  18  19  20]\n"
     ]
    }
   ],
   "source": [
    "x = np.arange(21)\n",
    "print(\"Original Vector\")\n",
    "print(x)\n",
    "print(\"Vector after Changing\")\n",
    "x[(x>=9) & (x<=15)]*=-1\n",
    "print(x)"
   ]
  },
  {
   "cell_type": "code",
   "execution_count": 61,
   "id": "6fd690d1-0f4d-48e6-852d-e520d7c9056b",
   "metadata": {},
   "outputs": [],
   "source": [
    "#Ques 5\n",
    "\n",
    "\n"
   ]
  },
  {
   "cell_type": "code",
   "execution_count": 14,
   "id": "236bb21a-1ca2-44d4-93dc-26289e223507",
   "metadata": {},
   "outputs": [
    {
     "name": "stdout",
     "output_type": "stream",
     "text": [
      "[[0. 0. 0. 0. 0.]\n",
      " [0. 0. 0. 0. 0.]\n",
      " [0. 0. 0. 0. 0.]\n",
      " [0. 0. 0. 0. 0.]\n",
      " [0. 0. 0. 0. 0.]]\n",
      "None\n"
     ]
    }
   ],
   "source": [
    "d = np.zeros((5,5))"
   ]
  },
  {
   "cell_type": "code",
   "execution_count": 18,
   "id": "81e58de6-d6cc-4f7a-b327-a1a91d9d643f",
   "metadata": {},
   "outputs": [
    {
     "name": "stdout",
     "output_type": "stream",
     "text": [
      "[[1. 0. 0. 0. 0.]\n",
      " [0. 2. 0. 0. 0.]\n",
      " [0. 0. 3. 0. 0.]\n",
      " [0. 0. 0. 4. 0.]\n",
      " [0. 0. 0. 0. 5.]]\n"
     ]
    }
   ],
   "source": [
    "np.fill_diagonal(d, [1, 2, 3, 4, 5])\n",
    "print(d)"
   ]
  },
  {
   "cell_type": "code",
   "execution_count": 20,
   "id": "875ecc33-b0af-411f-b434-557932f3f553",
   "metadata": {},
   "outputs": [],
   "source": [
    "#Ques 6\n",
    "\n",
    "\n"
   ]
  },
  {
   "cell_type": "code",
   "execution_count": 28,
   "id": "0fbec838-81e3-4bcd-b31c-9c37d0092810",
   "metadata": {},
   "outputs": [
    {
     "name": "stdout",
     "output_type": "stream",
     "text": [
      "45\n"
     ]
    }
   ],
   "source": [
    "arr = np.array([[1,2,3],[4,5,6],[7,8,9]])\n",
    "print(np.sum(arr))"
   ]
  },
  {
   "cell_type": "code",
   "execution_count": 54,
   "id": "5a81c28f-d434-4208-a3aa-2e30d979d2d4",
   "metadata": {},
   "outputs": [
    {
     "name": "stdout",
     "output_type": "stream",
     "text": [
      "[12 15 18]\n"
     ]
    }
   ],
   "source": [
    "print(np.sum(arr, axis=0)) #column wise sum "
   ]
  },
  {
   "cell_type": "code",
   "execution_count": 38,
   "id": "b19a8543-63f5-4a04-9a17-1eb65f666988",
   "metadata": {},
   "outputs": [
    {
     "name": "stdout",
     "output_type": "stream",
     "text": [
      "[ 6 15 24]\n"
     ]
    }
   ],
   "source": [
    "print(np.sum(arr, axis=1)) #row wise sum"
   ]
  },
  {
   "cell_type": "code",
   "execution_count": 44,
   "id": "863cc735-9050-483c-a8d2-fbfc2e3b2412",
   "metadata": {},
   "outputs": [],
   "source": [
    "#Ques 7\n",
    "\n",
    "\n"
   ]
  },
  {
   "cell_type": "code",
   "execution_count": 45,
   "id": "9451550f-f565-4cb4-b83c-1e518e3ba6e2",
   "metadata": {},
   "outputs": [],
   "source": [
    "a = np.array([1,2,3])\n",
    "np.savetxt('file.txt',a)"
   ]
  },
  {
   "cell_type": "code",
   "execution_count": 46,
   "id": "89db1af0-aac3-417c-8f66-5e988b72d884",
   "metadata": {},
   "outputs": [],
   "source": [
    "#Ques 8\n",
    "\n",
    "\n"
   ]
  },
  {
   "cell_type": "code",
   "execution_count": 71,
   "id": "a53f5c6f-b6f0-49b1-b1a0-b2737fc3beb8",
   "metadata": {},
   "outputs": [
    {
     "name": "stdout",
     "output_type": "stream",
     "text": [
      "Equal\n"
     ]
    }
   ],
   "source": [
    "a = np.array([[1,2,3],[4,5,6],[7,8,9]])\n",
    "b = np.array([[1,2,3],[4,5,6],[7,8,9]])\n",
    "# np.all(a == b)\n",
    "if np.array_equal(a, b):\n",
    "    print(\"Equal\")\n",
    "else:\n",
    "    print(\"Not Equal\")\n"
   ]
  },
  {
   "cell_type": "code",
   "execution_count": 52,
   "id": "5e495835-d8f0-424f-bf5e-7704cf3372a0",
   "metadata": {},
   "outputs": [],
   "source": [
    "#Ques 9\n",
    "\n",
    "\n"
   ]
  },
  {
   "cell_type": "code",
   "execution_count": 62,
   "id": "1d818a1b-54d3-49b6-9b15-c18fafe2351e",
   "metadata": {},
   "outputs": [
    {
     "name": "stdout",
     "output_type": "stream",
     "text": [
      "Before swapping\n",
      "[[9 4 5 1]\n",
      " [8 5 9 3]\n",
      " [8 5 9 1]\n",
      " [5 7 2 5]]\n",
      "After swapping\n",
      "[[5 7 2 5]\n",
      " [8 5 9 3]\n",
      " [8 5 9 1]\n",
      " [9 4 5 1]]\n"
     ]
    }
   ],
   "source": [
    "arr = np.random.randint(1,10,(4,4))\n",
    "print(\"Before swapping\")\n",
    "print(arr)\n",
    "arr[[0,-1]] = arr[[-1, 0]]\n",
    "print(\"After swapping\")\n",
    "print(arr)"
   ]
  },
  {
   "cell_type": "code",
   "execution_count": 63,
   "id": "685b2c8e-d1b1-40fd-b619-dd3d440a9d8a",
   "metadata": {},
   "outputs": [],
   "source": [
    "#Ques 10\n",
    "\n",
    "\n"
   ]
  },
  {
   "cell_type": "code",
   "execution_count": 67,
   "id": "bf2b6f05-a877-4a63-990e-5c75c751c9ad",
   "metadata": {},
   "outputs": [
    {
     "data": {
      "text/plain": [
       "array([[ 4, 10, 18],\n",
       "       [ 4, 10, 18],\n",
       "       [ 4, 10, 18]])"
      ]
     },
     "execution_count": 67,
     "metadata": {},
     "output_type": "execute_result"
    }
   ],
   "source": [
    "a = np.array([[1,2,3],[1,2,3],[1,2,3]])\n",
    "b = np.array([[4,5,6],[4,5,6],[4,5,6]])\n",
    "np.multiply(a,b)"
   ]
  },
  {
   "cell_type": "code",
   "execution_count": null,
   "id": "0c213b01-bbc4-4c74-94ad-c8349229da54",
   "metadata": {},
   "outputs": [],
   "source": []
  }
 ],
 "metadata": {
  "kernelspec": {
   "display_name": "Python 3 (ipykernel)",
   "language": "python",
   "name": "python3"
  },
  "language_info": {
   "codemirror_mode": {
    "name": "ipython",
    "version": 3
   },
   "file_extension": ".py",
   "mimetype": "text/x-python",
   "name": "python",
   "nbconvert_exporter": "python",
   "pygments_lexer": "ipython3",
   "version": "3.10.12"
  }
 },
 "nbformat": 4,
 "nbformat_minor": 5
}
