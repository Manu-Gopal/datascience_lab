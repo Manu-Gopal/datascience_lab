{
 "cells": [
  {
   "cell_type": "code",
   "execution_count": 28,
   "id": "6bfe5dfb-8dca-4688-b4ec-32b686c9caa8",
   "metadata": {},
   "outputs": [],
   "source": [
    "from sklearn import datasets\n",
    "from sklearn import model_selection\n",
    "from sklearn.metrics import accuracy_score"
   ]
  },
  {
   "cell_type": "code",
   "execution_count": 24,
   "id": "b62367ea-1be3-4015-8647-4649212d9075",
   "metadata": {},
   "outputs": [],
   "source": [
    "from sklearn import *"
   ]
  },
  {
   "cell_type": "code",
   "execution_count": 39,
   "id": "de4619b9-c7f8-467b-a5cd-c094c3b72239",
   "metadata": {},
   "outputs": [],
   "source": [
    "iris = datasets.load_iris(as_frame=True)"
   ]
  },
  {
   "cell_type": "code",
   "execution_count": 66,
   "id": "90663461-742d-452b-8727-869ec2a1ebdf",
   "metadata": {},
   "outputs": [],
   "source": [
    "x = iris.data\n",
    "y = iris.target"
   ]
  },
  {
   "cell_type": "code",
   "execution_count": 67,
   "id": "311d977e-afe1-4064-9bd6-3d69e4eade1f",
   "metadata": {},
   "outputs": [],
   "source": [
    "x_train, x_test, y_train, y_test = model_selection.train_test_split(x, y, train_size=0.7, random_state=12)"
   ]
  },
  {
   "cell_type": "code",
   "execution_count": 68,
   "id": "db47bef2-a089-4e94-9019-e2ad6257ea96",
   "metadata": {},
   "outputs": [],
   "source": [
    "neigh = neighbors.KNeighborsClassifier(n_neighbors = 3)"
   ]
  },
  {
   "cell_type": "code",
   "execution_count": 69,
   "id": "667a39d0-77cd-4c91-aabb-8a897f1fa153",
   "metadata": {},
   "outputs": [],
   "source": [
    "neigh.fit(x_train, y_train)\n",
    "y_pred = neigh.predict(x_test)"
   ]
  },
  {
   "cell_type": "code",
   "execution_count": 70,
   "id": "24380d86-af60-4f98-bcac-ba1875aa0428",
   "metadata": {},
   "outputs": [
    {
     "name": "stdout",
     "output_type": "stream",
     "text": [
      "Accuracy: 0.9777777777777777\n"
     ]
    }
   ],
   "source": [
    "accuracy = accuracy_score(y_test, y_pred)\n",
    "print(\"Accuracy:\", accuracy)"
   ]
  },
  {
   "cell_type": "code",
   "execution_count": 71,
   "id": "cb33a5d7-e5b5-4ef7-aad1-f69ee8eeb643",
   "metadata": {},
   "outputs": [
    {
     "name": "stdout",
     "output_type": "stream",
     "text": [
      "The species is virginica\n"
     ]
    },
    {
     "name": "stderr",
     "output_type": "stream",
     "text": [
      "/home/exam1/mambaforge/lib/python3.10/site-packages/sklearn/base.py:465: UserWarning: X does not have valid feature names, but KNeighborsClassifier was fitted with feature names\n",
      "  warnings.warn(\n"
     ]
    }
   ],
   "source": [
    "sepal_length = 2.5\n",
    "sepal_width = 3.2 \n",
    "petal_length = 4.5  \n",
    "petal_width = 5.6\n",
    "x_new = [[sepal_length, sepal_width, petal_length, petal_width]]\n",
    "species = iris.target_names[neigh.predict(x_new)]\n",
    "print(f\"The species is {species[0]}\"); "
   ]
  },
  {
   "cell_type": "code",
   "execution_count": null,
   "id": "3564a47c-edb8-4c17-acca-e1ec32773542",
   "metadata": {},
   "outputs": [],
   "source": []
  },
  {
   "cell_type": "code",
   "execution_count": null,
   "id": "652c79ff-bc42-45a8-9350-f3be5a3d3448",
   "metadata": {},
   "outputs": [],
   "source": []
  }
 ],
 "metadata": {
  "kernelspec": {
   "display_name": "Python 3 (ipykernel)",
   "language": "python",
   "name": "python3"
  },
  "language_info": {
   "codemirror_mode": {
    "name": "ipython",
    "version": 3
   },
   "file_extension": ".py",
   "mimetype": "text/x-python",
   "name": "python",
   "nbconvert_exporter": "python",
   "pygments_lexer": "ipython3",
   "version": "3.10.12"
  }
 },
 "nbformat": 4,
 "nbformat_minor": 5
}
